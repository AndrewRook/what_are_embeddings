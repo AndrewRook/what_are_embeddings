{
 "cells": [
  {
   "cell_type": "code",
   "execution_count": 1,
   "id": "21275a04",
   "metadata": {},
   "outputs": [
    {
     "name": "stdout",
     "output_type": "stream",
     "text": [
      "0.9544074144996451\n"
     ]
    }
   ],
   "source": [
    "v1 = [0,3,4,5,6]\n",
    "v2 = [4,5,6,7,8]\n",
    "\n",
    "def dot(v1, v2):\n",
    "\tdot_product = sum((a * b) for a,b in zip(v1,v2))\n",
    "\treturn dot_product\n",
    "\n",
    "def cosine_similarity(v1, v2):\n",
    "\t'''\n",
    "\t(v1 dot v2)/||v1|| *||v2||)\n",
    "\t'''\n",
    "\tproducts = dot(v1,v2)\n",
    "\tdenominator = ( (dot(v1,v1) **.5) * (dot(v2,v2) ** .5) )\n",
    "\tsimilarity = products / denominator\n",
    "\treturn similarity\n",
    "\n",
    "print(cosine_similarity(v1, v2))"
   ]
  },
  {
   "cell_type": "code",
   "execution_count": 2,
   "id": "74f41cf3",
   "metadata": {},
   "outputs": [
    {
     "data": {
      "text/plain": [
       "array([[0.95440741]])"
      ]
     },
     "execution_count": 2,
     "metadata": {},
     "output_type": "execute_result"
    }
   ],
   "source": [
    "from sklearn.metrics import pairwise\n",
    "\n",
    "v1 = [0,3,4,5,6]\n",
    "v2 = [4,5,6,7,8]\n",
    "\n",
    "# need to be in numpy data format\n",
    "pairwise.cosine_similarity([v1],[v2])\n",
    "# array([[0.95440741]])"
   ]
  },
  {
   "cell_type": "code",
   "execution_count": null,
   "id": "573f8dc0",
   "metadata": {},
   "outputs": [],
   "source": []
  }
 ],
 "metadata": {
  "kernelspec": {
   "display_name": "embed",
   "language": "python",
   "name": "embed"
  },
  "language_info": {
   "codemirror_mode": {
    "name": "ipython",
    "version": 3
   },
   "file_extension": ".py",
   "mimetype": "text/x-python",
   "name": "python",
   "nbconvert_exporter": "python",
   "pygments_lexer": "ipython3",
   "version": "3.10.8"
  }
 },
 "nbformat": 4,
 "nbformat_minor": 5
}
