{
 "cells": [
  {
   "cell_type": "code",
   "execution_count": 16,
   "id": "7ab14f29",
   "metadata": {},
   "outputs": [
    {
     "name": "stdout",
     "output_type": "stream",
     "text": [
      "TF-IDF:0.0866\n"
     ]
    }
   ],
   "source": [
    "import math \n",
    "\n",
    "# Process documents into individual words\n",
    "documentA  = ['Hold','fast','to','dreams','for','if','dreams','die,' ,'life','is','a','broken-winged','bird','that','cannot','fly']\n",
    "documentB =  ['No','bird','soars','too','high','if', 'he','soars','with','his','own','wings']\n",
    "\n",
    "def tf(term: str, document:list[str]) -> float:\n",
    "\t'''Term frequency of a word in a document  over total words in document'''\n",
    "\tterm_count = 0\n",
    "\ttotal_count = 0\n",
    "\n",
    "\tfor word in document:\n",
    "\t\ttotal_count +=1 \n",
    "\t\tif word == term:\n",
    "\t\t\tterm_count += 1\n",
    "\n",
    "\treturn (term_count / total_count)\n",
    "\n",
    "def idf(term:str, doc_list:list[str]) -> float:\n",
    "\t'''Inverse frequency of term across a set of documents'''\n",
    "\ttotal_docs = 0\n",
    "\ttotal_docs_with_term = 0\n",
    "\n",
    "\tfor doc in doc_list: \n",
    "\t\ttotal_docs +=1\n",
    "\t\tif term in doc:\n",
    "\t\t\ttotal_docs_with_term +=1\n",
    "\n",
    "\tidf = math.log(total_docs / total_docs_with_term)\n",
    "\treturn idf\n",
    "\n",
    "def tf_idf(tf:float, idf:float) -> float:\n",
    "\ttfidf = tf*idf\n",
    "\tprint(\"TF-IDF:{:0.4f}\".format(tfidf))\n",
    "\n",
    "tf = tf('dreams', documentA)\n",
    "idf_docs = idf('dreams',[documentA, documentB])\n",
    "\n",
    "\n",
    "tf_idf(tf, idf_docs)\n",
    "# TF-IDF:0.0866"
   ]
  },
  {
   "cell_type": "code",
   "execution_count": 24,
   "id": "d368b9a6",
   "metadata": {},
   "outputs": [
    {
     "data": {
      "text/plain": [
       "{'bird': 0.17250274745682542,\n",
       " 'broken': 0.24244659260336252,\n",
       " 'cannot': 0.24244659260336252,\n",
       " 'die': 0.24244659260336252,\n",
       " 'dreams': 0.48489318520672503,\n",
       " 'fast': 0.24244659260336252,\n",
       " 'fly': 0.24244659260336252,\n",
       " 'for': 0.24244659260336252,\n",
       " 'he': 0.0,\n",
       " 'high': 0.0,\n",
       " 'his': 0.0,\n",
       " 'hold': 0.24244659260336252,\n",
       " 'if': 0.17250274745682542,\n",
       " 'is': 0.24244659260336252,\n",
       " 'life': 0.24244659260336252,\n",
       " 'no': 0.0,\n",
       " 'own': 0.0,\n",
       " 'soars': 0.0,\n",
       " 'that': 0.24244659260336252,\n",
       " 'to': 0.24244659260336252,\n",
       " 'too': 0.0,\n",
       " 'winged': 0.24244659260336252,\n",
       " 'wings': 0.0,\n",
       " 'with': 0.0}"
      ]
     },
     "execution_count": 24,
     "metadata": {},
     "output_type": "execute_result"
    }
   ],
   "source": [
    "from sklearn.feature_extraction.text import TfidfVectorizer\n",
    "corpus = [\"Hold fast to dreams, for if dreams die, life is a broken-winged bird that cannot fly.\", \n",
    "          \"No bird soars too high if he soars with his own wings.\"]\n",
    "\n",
    "vectorizer = TfidfVectorizer()\n",
    "X = vectorizer.fit_transform(corpus)\n",
    "dict(zip(vectorizer.get_feature_names_out(), X.toarray()[0]))"
   ]
  },
  {
   "cell_type": "code",
   "execution_count": null,
   "id": "224355e4",
   "metadata": {},
   "outputs": [],
   "source": []
  }
 ],
 "metadata": {
  "kernelspec": {
   "display_name": "embed",
   "language": "python",
   "name": "embed"
  },
  "language_info": {
   "codemirror_mode": {
    "name": "ipython",
    "version": 3
   },
   "file_extension": ".py",
   "mimetype": "text/x-python",
   "name": "python",
   "nbconvert_exporter": "python",
   "pygments_lexer": "ipython3",
   "version": "3.10.8"
  }
 },
 "nbformat": 4,
 "nbformat_minor": 5
}
