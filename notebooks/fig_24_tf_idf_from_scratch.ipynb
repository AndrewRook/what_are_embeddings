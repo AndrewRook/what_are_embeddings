{
 "cells": [
  {
   "cell_type": "code",
   "execution_count": 16,
   "id": "7ab14f29",
   "metadata": {},
   "outputs": [
    {
     "name": "stdout",
     "output_type": "stream",
     "text": [
      "TF-IDF:0.0866\n"
     ]
    }
   ],
   "source": [
    "import math\n",
    "\n",
    "# Process documents into individual words\n",
    "documentA = [\n",
    "    \"Hold\",\n",
    "    \"fast\",\n",
    "    \"to\",\n",
    "    \"dreams\",\n",
    "    \"for\",\n",
    "    \"if\",\n",
    "    \"dreams\",\n",
    "    \"die,\",\n",
    "    \"life\",\n",
    "    \"is\",\n",
    "    \"a\",\n",
    "    \"broken-winged\",\n",
    "    \"bird\",\n",
    "    \"that\",\n",
    "    \"cannot\",\n",
    "    \"fly\",\n",
    "]\n",
    "documentB = [\n",
    "    \"No\",\n",
    "    \"bird\",\n",
    "    \"soars\",\n",
    "    \"too\",\n",
    "    \"high\",\n",
    "    \"if\",\n",
    "    \"he\",\n",
    "    \"soars\",\n",
    "    \"with\",\n",
    "    \"his\",\n",
    "    \"own\",\n",
    "    \"wings\",\n",
    "]\n",
    "\n",
    "\n",
    "def tf(term: str, document: list[str]) -> float:\n",
    "    \"\"\"Term frequency of a word in a document  over total words in document\"\"\"\n",
    "    term_count = 0\n",
    "    total_count = 0\n",
    "\n",
    "    for word in document:\n",
    "        total_count += 1\n",
    "        if word == term:\n",
    "            term_count += 1\n",
    "\n",
    "    return term_count / total_count\n",
    "\n",
    "\n",
    "def idf(term: str, doc_list: list[str]) -> float:\n",
    "    \"\"\"Inverse frequency of term across a set of documents\"\"\"\n",
    "    total_docs = 0\n",
    "    total_docs_with_term = 0\n",
    "\n",
    "    for doc in doc_list:\n",
    "        total_docs += 1\n",
    "        if term in doc:\n",
    "            total_docs_with_term += 1\n",
    "\n",
    "    idf = math.log(total_docs / total_docs_with_term)\n",
    "    return idf\n",
    "\n",
    "\n",
    "def tf_idf(tf: float, idf: float) -> float:\n",
    "    tfidf = tf * idf\n",
    "    print(\"TF-IDF:{:0.4f}\".format(tfidf))\n",
    "\n",
    "\n",
    "tf = tf(\"dreams\", documentA)\n",
    "idf_docs = idf(\"dreams\", [documentA, documentB])\n",
    "\n",
    "\n",
    "tf_idf(tf, idf_docs)\n",
    "# TF-IDF:0.0866"
   ]
  },
  {
   "cell_type": "code",
   "execution_count": 24,
   "id": "d368b9a6",
   "metadata": {},
   "outputs": [
    {
     "data": {
      "text/plain": [
       "{'bird': 0.17250274745682542,\n",
       " 'broken': 0.24244659260336252,\n",
       " 'cannot': 0.24244659260336252,\n",
       " 'die': 0.24244659260336252,\n",
       " 'dreams': 0.48489318520672503,\n",
       " 'fast': 0.24244659260336252,\n",
       " 'fly': 0.24244659260336252,\n",
       " 'for': 0.24244659260336252,\n",
       " 'he': 0.0,\n",
       " 'high': 0.0,\n",
       " 'his': 0.0,\n",
       " 'hold': 0.24244659260336252,\n",
       " 'if': 0.17250274745682542,\n",
       " 'is': 0.24244659260336252,\n",
       " 'life': 0.24244659260336252,\n",
       " 'no': 0.0,\n",
       " 'own': 0.0,\n",
       " 'soars': 0.0,\n",
       " 'that': 0.24244659260336252,\n",
       " 'to': 0.24244659260336252,\n",
       " 'too': 0.0,\n",
       " 'winged': 0.24244659260336252,\n",
       " 'wings': 0.0,\n",
       " 'with': 0.0}"
      ]
     },
     "execution_count": 24,
     "metadata": {},
     "output_type": "execute_result"
    }
   ],
   "source": [
    "from sklearn.feature_extraction.text import TfidfVectorizer\n",
    "\n",
    "corpus = [\n",
    "    \"Hold fast to dreams, for if dreams die, life is a broken-winged bird that cannot fly.\",\n",
    "    \"No bird soars too high if he soars with his own wings.\",\n",
    "]\n",
    "\n",
    "vectorizer = TfidfVectorizer()\n",
    "X = vectorizer.fit_transform(corpus)\n",
    "dict(zip(vectorizer.get_feature_names_out(), X.toarray()[0]))"
   ]
  },
  {
   "cell_type": "code",
   "execution_count": null,
   "id": "224355e4",
   "metadata": {},
   "outputs": [],
   "source": []
  }
 ],
 "metadata": {
  "kernelspec": {
   "display_name": "embed",
   "language": "python",
   "name": "embed"
  },
  "language_info": {
   "codemirror_mode": {
    "name": "ipython",
    "version": 3
   },
   "file_extension": ".py",
   "mimetype": "text/x-python",
   "name": "python",
   "nbconvert_exporter": "python",
   "pygments_lexer": "ipython3",
   "version": "3.10.8"
  }
 },
 "nbformat": 4,
 "nbformat_minor": 5
}
